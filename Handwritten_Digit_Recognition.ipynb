{
 "cells": [
  {
   "cell_type": "markdown",
   "metadata": {},
   "source": [
    "<h1>Handwritten Digit Recongnition| First Classification Problem</h1>\n",
    "<p>In this project we will design the machine learning model to identify the handwritten digits using the MNIST dataset. The MNIST dataset consists of 70,000 small images of digits handwritten by high school students and employees of the U.S Census Beureau. Each image is labelled with a digit it represents.</p>\n",
    "<p>We will go through various steps of designing the optimal machine learning model like training the various models, validating them, analysing the errors and choosing the best of all the algorithms.</p>"
   ]
  },
  {
   "cell_type": "markdown",
   "metadata": {},
   "source": [
    "# Downloading the dataset:"
   ]
  },
  {
   "cell_type": "markdown",
   "metadata": {},
   "source": [
    "We will use the Scikit- Learn package of python. It provides us various inbuilt functions for downloading the popular pre-loaded datasets. Given below is the code that we will use to fetch the MNIST dataset."
   ]
  },
  {
   "cell_type": "code",
   "execution_count": 2,
   "metadata": {},
   "outputs": [
    {
     "data": {
      "text/plain": [
       "{'COL_NAMES': ['label', 'data'],\n",
       " 'DESCR': 'mldata.org dataset: mnist-original',\n",
       " 'data': array([[0, 0, 0, ..., 0, 0, 0],\n",
       "        [0, 0, 0, ..., 0, 0, 0],\n",
       "        [0, 0, 0, ..., 0, 0, 0],\n",
       "        ...,\n",
       "        [0, 0, 0, ..., 0, 0, 0],\n",
       "        [0, 0, 0, ..., 0, 0, 0],\n",
       "        [0, 0, 0, ..., 0, 0, 0]], dtype=uint8),\n",
       " 'target': array([0., 0., 0., ..., 9., 9., 9.])}"
      ]
     },
     "execution_count": 2,
     "metadata": {},
     "output_type": "execute_result"
    }
   ],
   "source": [
    "from sklearn.datasets import fetch_mldata\n",
    "dataset= fetch_mldata('MNIST original')\n",
    "dataset"
   ]
  },
  {
   "cell_type": "markdown",
   "metadata": {},
   "source": [
    "<h3>Description of the keys:</h3>\n",
    "\n",
    "1. DESCR:- This key describes the dataset.\n",
    "2. data:- This key contains an array with 1 row per instance and one column per feature.\n",
    "3. target:- This key has array with labels."
   ]
  },
  {
   "cell_type": "markdown",
   "metadata": {},
   "source": [
    "We can look at these arrays with the code below:"
   ]
  },
  {
   "cell_type": "code",
   "execution_count": 3,
   "metadata": {},
   "outputs": [],
   "source": [
    "x, y= dataset[\"data\"], dataset[\"target\"]"
   ]
  },
  {
   "cell_type": "code",
   "execution_count": 4,
   "metadata": {},
   "outputs": [
    {
     "data": {
      "text/plain": [
       "(70000, 784)"
      ]
     },
     "execution_count": 4,
     "metadata": {},
     "output_type": "execute_result"
    }
   ],
   "source": [
    "x.shape"
   ]
  },
  {
   "cell_type": "code",
   "execution_count": 5,
   "metadata": {},
   "outputs": [
    {
     "data": {
      "text/plain": [
       "(70000,)"
      ]
     },
     "execution_count": 5,
     "metadata": {},
     "output_type": "execute_result"
    }
   ],
   "source": [
    "y.shape"
   ]
  },
  {
   "cell_type": "markdown",
   "metadata": {},
   "source": [
    "Hence by obeserving the shapes of the arrays x and y we made sure that there are 70000 images and each image has 784 features. It is 784 because each image is of size 28 x 28 pixels, and each pixel represents one pixel's intensity from 0(white) to 255(black)."
   ]
  },
  {
   "cell_type": "markdown",
   "metadata": {},
   "source": [
    "<h3>Taking a peek at one digit of dataset:</h3>\n",
    "\n",
    "We will use matplotlib for this. All we need to do is grab a feature vector from any of the instance, reshape to to a 28 x 28  array and use <code>imshow()</code> function."
   ]
  },
  {
   "cell_type": "code",
   "execution_count": 6,
   "metadata": {},
   "outputs": [
    {
     "data": {
      "image/png": "[encoded data removed]",
      "text/plain": [
       "<Figure size 432x288 with 1 Axes>"
      ]
     },
     "metadata": {
      "needs_background": "light"
     },
     "output_type": "display_data"
    }
   ],
   "source": [
    "%matplotlib inline\n",
    "import matplotlib\n",
    "import matplotlib.pyplot as plt\n",
    "digit= x[36000]\n",
    "image_of_digit= digit.reshape(28,28)\n",
    "plt.imshow(image_of_digit, cmap= matplotlib.cm.binary, interpolation =\"nearest\")\n",
    "plt.show()"
   ]
  },
  {
   "cell_type": "markdown",
   "metadata": {},
   "source": [
    "So, the image is '5'. Let's see it's corresponding label."
   ]
  },
  {
   "cell_type": "code",
   "execution_count": 7,
   "metadata": {},
   "outputs": [
    {
     "data": {
      "text/plain": [
       "5.0"
      ]
     },
     "execution_count": 7,
     "metadata": {},
     "output_type": "execute_result"
    }
   ],
   "source": [
    "y[36000]"
   ]
  },
  {
   "cell_type": "markdown",
   "metadata": {},
   "source": [
    "\n",
    "# Separating dataset into training set and testing set:\n",
    "\n",
    "It is important to seperate the dataset into training set and testing set in the beginning only. Although, the MNIST dataset is already split into a training set and testing set of first 60000 images and the last 10000 images"
   ]
  },
  {
   "cell_type": "code",
   "execution_count": 8,
   "metadata": {},
   "outputs": [],
   "source": [
    "x_train, x_test, y_train, y_test= x[:60000],x[60000:],y[:60000],y[60000:]"
   ]
  },
  {
   "cell_type": "markdown",
   "metadata": {},
   "source": [
    "Now, let's shuffle the training set. We should do so because:\n",
    "1. This helps to ensure that the folds we make for cross-validation will be similar (we don't want any of them to have some digits missing.)\n",
    "2. Some algorithms are sensitive to the order of the instances in a training set and they perform poorly if there are many similar instances in a row. Shuffling ensures this won't happen."
   ]
  },
  {
   "cell_type": "code",
   "execution_count": 9,
   "metadata": {},
   "outputs": [],
   "source": [
    "import numpy as np\n",
    "shuffle_index= np.random.permutation(60000)\n",
    "x_train, y_train= x_train[shuffle_index], y_train[shuffle_index]"
   ]
  },
  {
   "cell_type": "markdown",
   "metadata": {},
   "source": [
    "Great! our dataset is prepared. Now, lets train some classifier model with it and analyse the results."
   ]
  },
  {
   "cell_type": "markdown",
   "metadata": {},
   "source": [
    "# Training a Binary Classifier"
   ]
  },
  {
   "cell_type": "markdown",
   "metadata": {},
   "source": [
    "Let's keep the things easy. First, we will simply try to identify wheter a number is '5' or ' not-5'. This problem will be called a <b>Binary Classification</b> problem because we have only 2 class labels: '5' and 'not-5'.\n",
    "In order to do so, let's first create the target vectors for this classification problem:"
   ]
  },
  {
   "cell_type": "code",
   "execution_count": 10,
   "metadata": {},
   "outputs": [],
   "source": [
    "y_train_5=(y_train==5) #y_train_5 will have boolean values: 'True' for all 5s and 'False' for all other digits(non 5s).\n",
    "y_test_5=(y_test==5)"
   ]
  },
  {
   "cell_type": "markdown",
   "metadata": {},
   "source": [
    "# Picking up the classifier:\n",
    "\n",
    "A good place to start with is <b>Stochastic Gradient Descent (SGD) classifier</b>. Scikit-Learn has  SGDClassifer class.\n",
    "This class has an advantage of handling a very large datasets efficiently."
   ]
  },
  {
   "cell_type": "code",
   "execution_count": 11,
   "metadata": {},
   "outputs": [
    {
     "data": {
      "text/plain": [
       "SGDClassifier(alpha=0.0001, average=False, class_weight=None, epsilon=0.1,\n",
       "       eta0=0.0, fit_intercept=True, l1_ratio=0.15,\n",
       "       learning_rate='optimal', loss='hinge', max_iter=5, n_iter=None,\n",
       "       n_jobs=1, penalty='l2', power_t=0.5, random_state=42, shuffle=True,\n",
       "       tol=None, verbose=0, warm_start=False)"
      ]
     },
     "execution_count": 11,
     "metadata": {},
     "output_type": "execute_result"
    }
   ],
   "source": [
    "from sklearn.linear_model import SGDClassifier\n",
    "sgd_clf= SGDClassifier(random_state=42, tol=None, max_iter=5)\n",
    "sgd_clf.fit(x_train,y_train_5)"
   ]
  },
  {
   "cell_type": "markdown",
   "metadata": {},
   "source": [
    "The classifier model has been trained. Now, we can use it to detect images of the number 5."
   ]
  },
  {
   "cell_type": "code",
   "execution_count": 12,
   "metadata": {},
   "outputs": [
    {
     "data": {
      "text/plain": [
       "array([ True])"
      ]
     },
     "execution_count": 12,
     "metadata": {},
     "output_type": "execute_result"
    }
   ],
   "source": [
    "sgd_clf.predict([digit])"
   ]
  },
  {
   "cell_type": "markdown",
   "metadata": {},
   "source": [
    "The classifier classified it correctly. But we cannot finally choose it as our prime model. It's time to evaluate it's performance."
   ]
  },
  {
   "cell_type": "markdown",
   "metadata": {},
   "source": [
    "# Performance Measures"
   ]
  },
  {
   "cell_type": "markdown",
   "metadata": {},
   "source": [
    "<h3>Measuring Accuracy using Cross- Validation</h3>\n",
    "Cross- validation is a good way to evaluate the performance of your model."
   ]
  },
  {
   "cell_type": "code",
   "execution_count": 13,
   "metadata": {},
   "outputs": [
    {
     "name": "stdout",
     "output_type": "stream",
     "text": [
      "0.9584\n",
      "0.9698\n",
      "0.9641\n"
     ]
    }
   ],
   "source": [
    "from sklearn.model_selection import StratifiedKFold\n",
    "from sklearn.base import clone\n",
    "\n",
    "skfolds = StratifiedKFold(n_splits=3, random_state=42)\n",
    "for train_index, test_index in skfolds.split(x_train, y_train_5):\n",
    "    clone_clf = clone(sgd_clf)\n",
    "    x_train_folds = x_train[train_index]\n",
    "    y_train_folds = (y_train_5[train_index])\n",
    "    x_test_fold = x_train[test_index]\n",
    "    y_test_fold = (y_train_5[test_index])\n",
    "    \n",
    "    clone_clf.fit(x_train_folds, y_train_folds)\n",
    "    y_pred = clone_clf.predict(x_test_fold)\n",
    "    n_correct = sum(y_pred == y_test_fold)\n",
    "    print(n_correct / len(y_pred))"
   ]
  },
  {
   "cell_type": "markdown",
   "metadata": {},
   "source": [
    "The StratifiedKFold class performs stratified sampling to produce folds that contain a representative ratio of each class.\n",
    "At each iteration the code creates a clone of classifier, trains that code on the training folds, and makes perdictions on the test folds. Then it counts the number fo correct predictions and outputs the ratio of correct predictions.\n",
    "Now, we will use <code>cross_val_score()</code> function to evaluate our SGDClassifier model using K-fold cross-validation, with 3 folds.\n",
    "The K-fold cross validation means splitting the training set into K-folds (in this case 3 folds), then making predictions and evaluating them on each fold using a model trained on the remaining folds."
   ]
  },
  {
   "cell_type": "code",
   "execution_count": 14,
   "metadata": {},
   "outputs": [
    {
     "data": {
      "text/plain": [
       "array([0.9584, 0.9698, 0.9641])"
      ]
     },
     "execution_count": 14,
     "metadata": {},
     "output_type": "execute_result"
    }
   ],
   "source": [
    "from sklearn.model_selection import cross_val_score\n",
    "cross_val_score(sgd_clf, x_train, y_train_5, cv=3, scoring=\"accuracy\")"
   ]
  },
  {
   "cell_type": "markdown",
   "metadata": {},
   "source": [
    "There's our accuracy(ratio of correct predictions on all cross-validation folds) : 95%, well that looks amazing! Well, let's not get too excited.\n",
    "\n",
    "Now, lets make a very dumb classifier that classifies every single image in the \"not-5\" class:"
   ]
  },
  {
   "cell_type": "code",
   "execution_count": 15,
   "metadata": {},
   "outputs": [],
   "source": [
    "from sklearn.base import BaseEstimator\n",
    "class Never5Classifier(BaseEstimator):\n",
    "    def fit(self, x, y=None):\n",
    "        pass\n",
    "    def predict(self, x):\n",
    "        return np.zeros((len(x),1),dtype=bool)"
   ]
  },
  {
   "cell_type": "markdown",
   "metadata": {},
   "source": [
    "Now, let us check it's accuracy:"
   ]
  },
  {
   "cell_type": "code",
   "execution_count": 16,
   "metadata": {},
   "outputs": [
    {
     "data": {
      "text/plain": [
       "array([0.0956 , 0.0987 , 0.10185])"
      ]
     },
     "execution_count": 16,
     "metadata": {},
     "output_type": "execute_result"
    }
   ],
   "source": [
    "never_5_clf= Never5Classifier()\n",
    "cross_val_score(never_5_clf,x_train,y_train,cv=3,scoring=\"accuracy\")"
   ]
  },
  {
   "cell_type": "markdown",
   "metadata": {},
   "source": [
    "That's more than 95% accuracy! because only about 10% of the images are 5s, so if you always guess that image is not a 5, you will be right about 95% of the time.\n",
    "That is why accuracy is generally not the preffered performance measure for classifiers, especially when we are dealing with skewed datasets (when classes are much more frequent than others)."
   ]
  },
  {
   "cell_type": "markdown",
   "metadata": {},
   "source": [
    "# Confusion Matrix\n",
    "Confusion matrix is a better way to evaluate the performance of a classifer:\n",
    "#### General Idea:\n",
    "Count the number of times instances of class A are classified as class B, like if we want to know the number of times the classifier confused image of 5s with 3s, then you would look in the 5th row and 3rd column of the confusion matrix.\n",
    "<p>You need ot have a set of predictions, so they can be compared to the actual targets. You could make predictions on test set but let's keep it untouched for now. Instead, you can use the <code>cross_val_predict() </code>function:</p>"
   ]
  },
  {
   "cell_type": "code",
   "execution_count": 17,
   "metadata": {},
   "outputs": [],
   "source": [
    "from sklearn.model_selection import cross_val_predict\n",
    "y_train_pred= cross_val_predict(sgd_clf, x_train,y_train_5, cv=3)"
   ]
  },
  {
   "cell_type": "markdown",
   "metadata": {},
   "source": [
    "It will also perform K- fold cross validation just like <code>cross_val_score()</code> but instead of giving the evaluation scores, it will return the prediction made on each test fold. You get a clean prediction for each instance in the training set ( \"clean\" means that the prediction is made by a model that never saw the data during training).\n",
    "Now, we can make the confusion matrix using <code>confusion_matrix()</code> function. Just ass the classses (<code>y_train_5</code>) and the predicted classes (<code>y_train_pred</code>).\n"
   ]
  },
  {
   "cell_type": "code",
   "execution_count": 18,
   "metadata": {},
   "outputs": [
    {
     "data": {
      "text/plain": [
       "array([[54013,   566],\n",
       "       [ 1588,  3833]], dtype=int64)"
      ]
     },
     "execution_count": 18,
     "metadata": {},
     "output_type": "execute_result"
    }
   ],
   "source": [
    "from sklearn.metrics import confusion_matrix\n",
    "confusion_matrix(y_train_5, y_train_pred)"
   ]
  },
  {
   "cell_type": "markdown",
   "metadata": {},
   "source": [
    "1. Each row in a confusion matrix represents an actual class, while each column represents a predicted class.\n",
    "2. The first row of this matrix considers 'non-5' images (negative class):52606 of them were correctly classified as 'non-5s'(<b>True Negatives</b>), while the remaining 1973 were wrongly classified as 5s (<b>False Positive</b>).\n",
    "3. The second row considers the images of 5s (the poitive class): 1070 were incorrectly classified as non-5s (<b>False Negatives</b>), whereas the remaining 4351 were correctly classified as 5s (<b>True Positives</b>)."
   ]
  },
  {
   "cell_type": "markdown",
   "metadata": {},
   "source": [
    "A perfect classifier would have only True Positves and True Negatives, so it's confusion matrix would have non-zero values only on its main diagonal (top left to bottom right):\n",
    "<code>array([[54579,0],\n",
    "             [0,5421]])\n",
    "</code>\n",
    "That is why a confusion matrix gives you a lot of information, but sometimes you may prefer a more concise metrix."
   ]
  },
  {
   "cell_type": "markdown",
   "metadata": {},
   "source": [
    "This leads us to two important matrics: <b>precision</b> and <b>recall</b>.\n",
    "## Precision:\n",
    "The accuracy of the positive predictions is calld the precision of the classifier.\n",
    "![title](images/precision.png)\n",
    "TP is the number of true positives and FP is the number of false positives.\n",
    "<p>For a perfect case the precision would be 1/1= 100%. A trivial way to have a perfect precision is to make one single positive predicition and ensure that it is correct. This would not be very useful as the classifer would ignore all but one positive instance. Therefore precison is used typically along with another metric called <b>recall</b> or <b>sensitivity</b> or <b>true positive rate (TPR).</b></p>\n",
    "\n",
    "## Recall:\n",
    "This is the ratio of postive instances that are correctly detected by the classifier.\n",
    "\n",
    "![title](images/recall.png)\n",
    "where FN is false negative."
   ]
  },
  {
   "cell_type": "code",
   "execution_count": 19,
   "metadata": {},
   "outputs": [
    {
     "data": {
      "text/plain": [
       "0.8713343941804955"
      ]
     },
     "execution_count": 19,
     "metadata": {},
     "output_type": "execute_result"
    }
   ],
   "source": [
    "from sklearn.metrics import precision_score, recall_score\n",
    "precision_score(y_train_5, y_train_pred)"
   ]
  },
  {
   "cell_type": "code",
   "execution_count": 20,
   "metadata": {},
   "outputs": [
    {
     "data": {
      "text/plain": [
       "0.7070651171370596"
      ]
     },
     "execution_count": 20,
     "metadata": {},
     "output_type": "execute_result"
    }
   ],
   "source": [
    "recall_score(y_train_5, y_train_pred)"
   ]
  },
  {
   "cell_type": "markdown",
   "metadata": {},
   "source": [
    "So here you can see that the accuracy is decreased. When our model says that image is a 5, it is correct only 69% of the time. Moreover, it only detects 80% of the 5s. Therefore the more convenient thing to do would be to combine precision and recall into a single metric called the <b>F1 score</b>, in particular if you need a simple way to compare 2 classifiers.\n",
    "    The F1 score is the mean treats all harmonic mean of precision and recall. The arithematic mean treats all values equally, whereas the harmonic mean gives much more weight to low values.\n",
    "    <p>As a result, classifier will give only a high F1 score if both recall and precision are high.</p>\n",
    "    \n",
    "![title](images/F1score.png)"
   ]
  },
  {
   "cell_type": "code",
   "execution_count": 21,
   "metadata": {},
   "outputs": [
    {
     "data": {
      "text/plain": [
       "0.7806517311608961"
      ]
     },
     "execution_count": 21,
     "metadata": {},
     "output_type": "execute_result"
    }
   ],
   "source": [
    "from sklearn.metrics import f1_score\n",
    "f1_score(y_train_5, y_train_pred)"
   ]
  },
  {
   "cell_type": "markdown",
   "metadata": {},
   "source": [
    "The F1 score is often used with the classifiers that have similar precision and recall.\n",
    "We don't always want them to be equal, in some cases they must vary according to the problem. The classifer of those problems should have low precision and high recall or vice versa accordingly. <p>But, you can't have it both ways: increasing precision reduces recall and increasing recall reduces precision. This is called <b>precision/ recall tradeoff.</b></p>\n",
    "# Precision/ Recall Tradeoff:\n",
    "When SGDClassifier makes its classification decisions, for each instance, it computes a score based on a decision function, and if that score is greater than a\n",
    "<b>threshold</b>, it assigns the instance to the positive class, or else it assigns it to the negative class. In the case of this classifier, lowering the\n",
    "threshold increases recall and reduces precision.\n",
    "Scikit- Learn does not let you set the threshold directly, but it give you access to the decision scores that it uses to predictions. Instead of calling the classifier's <code>predict()</code> method, call it's <code>decision_function()</code> method, which returns a score for each of the instance, and then make predictions based on those scores using any threshold you want."
   ]
  },
  {
   "cell_type": "code",
   "execution_count": 22,
   "metadata": {},
   "outputs": [
    {
     "data": {
      "text/plain": [
       "array([20578.67777292])"
      ]
     },
     "execution_count": 22,
     "metadata": {},
     "output_type": "execute_result"
    }
   ],
   "source": [
    "y_scores= sgd_clf.decision_function([digit])\n",
    "y_scores"
   ]
  },
  {
   "cell_type": "code",
   "execution_count": 23,
   "metadata": {},
   "outputs": [
    {
     "data": {
      "text/plain": [
       "array([ True])"
      ]
     },
     "execution_count": 23,
     "metadata": {},
     "output_type": "execute_result"
    }
   ],
   "source": [
    "threshold=0\n",
    "y_digit_pred=(y_scores>threshold)\n",
    "y_digit_pred"
   ]
  },
  {
   "cell_type": "markdown",
   "metadata": {},
   "source": [
    "With threshold=0, it will give same result as <code>predict()</code> method. Now if we raise threshold:"
   ]
  },
  {
   "cell_type": "code",
   "execution_count": 24,
   "metadata": {},
   "outputs": [
    {
     "data": {
      "text/plain": [
       "array([False])"
      ]
     },
     "execution_count": 24,
     "metadata": {},
     "output_type": "execute_result"
    }
   ],
   "source": [
    "threshold=200000\n",
    "y_digit_pred=(y_scores>threshold)\n",
    "y_digit_pred"
   ]
  },
  {
   "cell_type": "markdown",
   "metadata": {},
   "source": [
    "This confirms that raising the threshold decrease recall.\n",
    "<p>So how to decide which threshold to use?\n",
    "    First we will get the scores of all instances in the training set using the <code>cross_val_predict()</code> function again, but this time specifying that you want it to return decision scores instead of predictions</p>"
   ]
  },
  {
   "cell_type": "code",
   "execution_count": 25,
   "metadata": {},
   "outputs": [],
   "source": [
    "y_scores= cross_val_predict(sgd_clf, x_train, y_train_5, cv=3,method=\"decision_function\")"
   ]
  },
  {
   "cell_type": "markdown",
   "metadata": {},
   "source": [
    "Now, with these scores we can compute precision and recall for all possible thresholds using the <code>precision_recall_curve()</code> function:"
   ]
  },
  {
   "cell_type": "code",
   "execution_count": 26,
   "metadata": {},
   "outputs": [],
   "source": [
    "from sklearn.metrics import precision_recall_curve\n",
    "precision, recalls, thresholds= precision_recall_curve(y_train_5, y_scores)"
   ]
  },
  {
   "cell_type": "markdown",
   "metadata": {},
   "source": [
    "Finally you can plot precision and recall as functions of the threshold value using Matplotlib."
   ]
  },
  {
   "cell_type": "code",
   "execution_count": 27,
   "metadata": {},
   "outputs": [
    {
     "data": {
      "image/png": "[encoded data removed]",
      "text/plain": [
       "<Figure size 432x288 with 1 Axes>"
      ]
     },
     "metadata": {
      "needs_background": "light"
     },
     "output_type": "display_data"
    }
   ],
   "source": [
    "def plot_precision_recall_vs_threshold(precision, recalls,thresholds):\n",
    "    plt.plot(thresholds, precision[:-1],\"b--\",label=\"Precision\")\n",
    "    plt.plot(thresholds, recalls[:-1],\"g--\", label=\"Recall\")\n",
    "    plt.xlabel(\"Threshold\")\n",
    "    plt.legend(loc=\"upper left\")\n",
    "    plt.ylim([0,1])\n",
    "plot_precision_recall_vs_threshold(precision, recalls, thresholds)\n",
    "plt.show()"
   ]
  },
  {
   "cell_type": "markdown",
   "metadata": {},
   "source": [
    "Now by looking at graph you can simply select the value that gives you the best precision/recall tradeoff for your task. Another way to select a good precision/ recall tradeoff is to plot precision directly against recall.\n",
    "<p>Suppose we decide to aim for 90% precision. We look at the plot and find that we need about 215000 of threshold. To make prediction on the training set for now, instead of calling classifier's <code>predict()</code>method, you can run this code:</p>"
   ]
  },
  {
   "cell_type": "code",
   "execution_count": 28,
   "metadata": {},
   "outputs": [],
   "source": [
    "y_train_pred_90= (y_scores>215000)"
   ]
  },
  {
   "cell_type": "markdown",
   "metadata": {},
   "source": [
    "Now check the precision and recall of this prediction:"
   ]
  },
  {
   "cell_type": "code",
   "execution_count": 29,
   "metadata": {},
   "outputs": [
    {
     "data": {
      "text/plain": [
       "0.9766852508869741"
      ]
     },
     "execution_count": 29,
     "metadata": {},
     "output_type": "execute_result"
    }
   ],
   "source": [
    "precision_score(y_train_5,y_train_pred_90)"
   ]
  },
  {
   "cell_type": "code",
   "execution_count": 30,
   "metadata": {},
   "outputs": [
    {
     "data": {
      "text/plain": [
       "0.35546947057738426"
      ]
     },
     "execution_count": 30,
     "metadata": {},
     "output_type": "execute_result"
    }
   ],
   "source": [
    "recall_score(y_train_5, y_train_pred_90)"
   ]
  },
  {
   "cell_type": "markdown",
   "metadata": {},
   "source": [
    "Great! we have 90% precision classifier. But a high- precision classifier is not very useful ofi it's recall is too low."
   ]
  },
  {
   "cell_type": "markdown",
   "metadata": {},
   "source": [
    "# The ROC Curve\n",
    "The <b>receiver operating characteristic(ROC) curve</b> is another common tool used with binary classifiers. It is like precision/recall curve, the ROC curve plots the <b>true prositive rate</b>(another name for recall) against the <b>false positive rate</b>.\n",
    "<p>The FPR is the ratio of negative instances that are incorrectly classified as postive. It is equal to one minus true negative rate) which is the ratio of negative instances that are correctly classified as negative. The TNR is also called <b>specificity</b>. Hence the ROC curve plots sensitivity(recall) versus (1-specificity).</p>\n",
    "<p>To plot the ROC curve, you first need to compute the TPR and FPR for various threshold values, using the <code>roc_curve()</code> function:</p>"
   ]
  },
  {
   "cell_type": "code",
   "execution_count": 31,
   "metadata": {},
   "outputs": [],
   "source": [
    "from sklearn.metrics import roc_curve\n",
    "fpr, tpr, thresholds= roc_curve(y_train_5, y_scores)"
   ]
  },
  {
   "cell_type": "code",
   "execution_count": 32,
   "metadata": {},
   "outputs": [
    {
     "data": {
      "image/png": "[encoded data removed]",
      "text/plain": [
       "<Figure size 432x288 with 1 Axes>"
      ]
     },
     "metadata": {
      "needs_background": "light"
     },
     "output_type": "display_data"
    }
   ],
   "source": [
    "def plot_roc_curve(fpr,tpr,label=None):\n",
    "    plt.plot(fpr,tpr,linewidth=2,label=label)\n",
    "    plt.plot([0,1],[0,1],'k--')\n",
    "    plt.axis([0,1,0,1])\n",
    "    plt.xlabel('False Positive Rate')\n",
    "    plt.ylabel('True Positive Rate')\n",
    "plot_roc_curve(fpr,tpr)\n",
    "plt.show()"
   ]
  },
  {
   "cell_type": "markdown",
   "metadata": {},
   "source": [
    "<p>Once again there is a tradeoff: the higher the recall (TPR), the more false positives (FPR) the classifier\n",
    "produces. The dotted line represents the ROC curve of a purely random classifier; a good classifier stays\n",
    "as far away from that line as possible (toward the top-left corner).</p>\n",
    "<p>Now, the way of comparing the classifiers is to measure the <b>Area Under the Curve (AUC)</b>. A perfect classifier will have a ROC AUC equal to 1, whereas a purely random classifier will have a ROC AUC equal to 0.5.</p>\n",
    "Scikit-Learn provides a function to compute the ROC AUC:"
   ]
  },
  {
   "cell_type": "code",
   "execution_count": 33,
   "metadata": {},
   "outputs": [
    {
     "data": {
      "text/plain": [
       "0.9612024471641203"
      ]
     },
     "execution_count": 33,
     "metadata": {},
     "output_type": "execute_result"
    }
   ],
   "source": [
    "from sklearn.metrics import roc_auc_score\n",
    "roc_auc_score(y_train_5, y_scores)"
   ]
  },
  {
   "cell_type": "markdown",
   "metadata": {},
   "source": [
    "# Using RandomForestClassifier\n",
    "Now, let's train a <b>RandomForestClassifier</b> and compare it's ROC curve and ROC AUC score to the SGClassifier.\n",
    "<p>First we will get score for each instance in the training set. But the <code>RandomForestClassifier</code> class does not have a <code>decision_function()</code> method. Instead it has a <code>predict_proba()</code> method. It returns an array containing a row per instance and a column per class, each containing the probability that the given instance belongs to the given class (e.g., 70% chance that the image represents a 5:</p>"
   ]
  },
  {
   "cell_type": "code",
   "execution_count": 34,
   "metadata": {},
   "outputs": [],
   "source": [
    "from sklearn.ensemble import RandomForestClassifier\n",
    "forest_clf = RandomForestClassifier(random_state=42)\n",
    "y_probas_forest = cross_val_predict(forest_clf, x_train, y_train_5, cv=3,method=\"predict_proba\")"
   ]
  },
  {
   "cell_type": "markdown",
   "metadata": {},
   "source": [
    "But in order to plot ROC curve we need to scores not probabilities. A simple solution is to use the postive class's probability as the score."
   ]
  },
  {
   "cell_type": "code",
   "execution_count": 35,
   "metadata": {},
   "outputs": [],
   "source": [
    "y_scores_forest = y_probas_forest[:, 1] # score = proba of positive class\n",
    "fpr_forest, tpr_forest, thresholds_forest = roc_curve(y_train_5,y_scores_forest)"
   ]
  },
  {
   "cell_type": "markdown",
   "metadata": {},
   "source": [
    "Now plot the both ROC curves to see how they compare."
   ]
  },
  {
   "cell_type": "code",
   "execution_count": 36,
   "metadata": {},
   "outputs": [
    {
     "data": {
      "image/png": "[encoded data removed]",
      "text/plain": [
       "<Figure size 432x288 with 1 Axes>"
      ]
     },
     "metadata": {
      "needs_background": "light"
     },
     "output_type": "display_data"
    }
   ],
   "source": [
    "plt.plot(fpr, tpr, \"b:\", label=\"SGD\")\n",
    "plot_roc_curve(fpr_forest, tpr_forest, \"Random Forest\")\n",
    "plt.legend(loc=\"lower right\")\n",
    "plt.show()"
   ]
  },
  {
   "cell_type": "markdown",
   "metadata": {},
   "source": [
    "We can clearly see that the ROC curve of RandomForestClassifier is much better than SGDClassifier: as it comes much closer to top-left corner. As a resut it's ROC AUC score is also significantly better."
   ]
  },
  {
   "cell_type": "code",
   "execution_count": 37,
   "metadata": {},
   "outputs": [
    {
     "data": {
      "text/plain": [
       "0.9920565042623609"
      ]
     },
     "execution_count": 37,
     "metadata": {},
     "output_type": "execute_result"
    }
   ],
   "source": [
    "roc_auc_score(y_train_5, y_scores_forest)"
   ]
  },
  {
   "cell_type": "markdown",
   "metadata": {},
   "source": [
    "That's a really great score! Now let's see their precision and recall score. For that we will use <code>cross_val_predict()</code> for getting a set of prediction through our trained RandomForestClassifier."
   ]
  },
  {
   "cell_type": "code",
   "execution_count": 38,
   "metadata": {},
   "outputs": [],
   "source": [
    "y_train_pred_forest= cross_val_predict(forest_clf, x_train,y_train_5, cv=3)"
   ]
  },
  {
   "cell_type": "markdown",
   "metadata": {},
   "source": [
    "Precision and Recall are:"
   ]
  },
  {
   "cell_type": "code",
   "execution_count": 39,
   "metadata": {},
   "outputs": [
    {
     "data": {
      "text/plain": [
       "0.9828571428571429"
      ]
     },
     "execution_count": 39,
     "metadata": {},
     "output_type": "execute_result"
    }
   ],
   "source": [
    "precision_score(y_train_5, y_train_pred_forest)"
   ]
  },
  {
   "cell_type": "code",
   "execution_count": 40,
   "metadata": {},
   "outputs": [
    {
     "data": {
      "text/plain": [
       "0.8249400479616307"
      ]
     },
     "execution_count": 40,
     "metadata": {},
     "output_type": "execute_result"
    }
   ],
   "source": [
    "recall_score(y_train_5, y_train_pred_forest)"
   ]
  },
  {
   "cell_type": "markdown",
   "metadata": {},
   "source": [
    "That is really not a bad score! and finally that is our binary classifier. That is how we choose the appropriate metric for our task,\n",
    "evaluate our classifiers using cross-validation, select the precision/recall tradeoff that fits our needs,\n",
    "and then just compare different models using ROC curves and ROC AUC scores. \n",
    "Now let’s try to detect more than just the 5s."
   ]
  },
  {
   "cell_type": "markdown",
   "metadata": {},
   "source": [
    "# Multiclass Classification\n",
    "<p>Since our binary classifier just distinguished between two classes, the muliclass classifier we will design will recognize all 10 digits i.e. now we have more than two classes.</p>\n",
    "<p>We have classifiers like <i>Naive Bayes</i> or <i>Random Forest classifiers</i> which are capable of handling multile classes directly. On the other hand we have Support Vector Machine classifier or Linear classifiers which are strictly binary.</p>\n",
    "<p>We can have two strategies for designing a system to classify the digit images into 10 classses (from 0 to 9). One of them is to train 10 binary classifiers, one for each digit (like 0-detector, 1-detector, 2-detector, and so on). Then we can calculate the decision score from each classifier for that image and select the class whose claddifier outputs the highest score. It is called the <i>one-versus-all (OvA)</i> strategy, also known as one-versus-the-rest.\n",
    "Another strategy will be to train a binary classifier for every pair of digits: one to distinguish 0s and 1s, another to distinguish 0s and 2s, another for 1s and 2s, and so on. Wel will need Nx(N-1)/2 classifiers, where N is the number of classes. This is called <i>one-versus-one (OvO) strategy.</i> The advantage of OvO is that each of the classifier only needs to be trained on the part of the training set for the two classes that it must distinguish.</p>\n",
    "<p>Some algorithms like SVM classiifer scale poorly with size of the training set, so for these alforithms OvO is preffered since it is faster to train many classifiers on small training sets than training few classifiers on large trianing sets. However, for most of binary classification algorithms, OvA is preffered.</p>\n",
    "<p>Scikit-Learn detects when you try to use a binary classification for a multiclass classification task, and it automatically runs OvA (except for SVM classifiers which uses OvO). Let us try this with the <code>SGDClassifier:</code></p>\n"
   ]
  },
  {
   "cell_type": "code",
   "execution_count": 42,
   "metadata": {},
   "outputs": [
    {
     "data": {
      "text/plain": [
       "array([5.])"
      ]
     },
     "execution_count": 42,
     "metadata": {},
     "output_type": "execute_result"
    }
   ],
   "source": [
    "sgd_clf.fit(x_train, y_train)\n",
    "sgd_clf.predict([digit])"
   ]
  },
  {
   "cell_type": "markdown",
   "metadata": {},
   "source": [
    "That was easy to do! It just trained <code>SGDCassifier</code> on the training set using the original target classes from 0 to 9 (y_train), instead just for 5-versus-all classes (y_train_5). Then it makes a predicition and that too a correct one. At the backend Scikit-Learn actually trained 10 binary classifiers, got their decision scores for the image, and selected the class with the highest score.\n",
    "<p>We can call the <code>decision_function()</code> method which returns 10 scores, one per class instead of just one score per instance:</p>"
   ]
  },
  {
   "cell_type": "code",
   "execution_count": 43,
   "metadata": {},
   "outputs": [
    {
     "data": {
      "text/plain": [
       "array([[-184516.09922027, -335425.69034371, -277934.41071657,\n",
       "        -368694.33898753, -458190.3391535 ,   20578.67777292,\n",
       "        -706624.05164995, -332193.04687909, -681441.64939102,\n",
       "        -742920.29417176]])"
      ]
     },
     "execution_count": 43,
     "metadata": {},
     "output_type": "execute_result"
    }
   ],
   "source": [
    "digits_scores = sgd_clf.decision_function([digit])\n",
    "digits_scores"
   ]
  },
  {
   "cell_type": "markdown",
   "metadata": {},
   "source": [
    "we can see that class 5 has the highest score in this array."
   ]
  },
  {
   "cell_type": "code",
   "execution_count": 44,
   "metadata": {},
   "outputs": [
    {
     "data": {
      "text/plain": [
       "5"
      ]
     },
     "execution_count": 44,
     "metadata": {},
     "output_type": "execute_result"
    }
   ],
   "source": [
    "np.argmax([digits_scores])"
   ]
  },
  {
   "cell_type": "code",
   "execution_count": 48,
   "metadata": {},
   "outputs": [
    {
     "data": {
      "text/plain": [
       "array([0., 1., 2., 3., 4., 5., 6., 7., 8., 9.])"
      ]
     },
     "execution_count": 48,
     "metadata": {},
     "output_type": "execute_result"
    }
   ],
   "source": [
    "sgd_clf.classes_"
   ]
  },
  {
   "cell_type": "code",
   "execution_count": 50,
   "metadata": {},
   "outputs": [
    {
     "data": {
      "text/plain": [
       "5.0"
      ]
     },
     "execution_count": 50,
     "metadata": {},
     "output_type": "execute_result"
    }
   ],
   "source": [
    "sgd_clf.classes_[5]"
   ]
  },
  {
   "cell_type": "markdown",
   "metadata": {},
   "source": [
    "You can use one-versus-one or one-versus-all by forcing ScikitLearn, by using OneVsOneClassifier or OneVsRestClassifier classes. Just create an instance and passs a binary classifier to its constructor."
   ]
  },
  {
   "cell_type": "code",
   "execution_count": 57,
   "metadata": {},
   "outputs": [
    {
     "data": {
      "text/plain": [
       "array([5.])"
      ]
     },
     "execution_count": 57,
     "metadata": {},
     "output_type": "execute_result"
    }
   ],
   "source": [
    "from sklearn.multiclass import OneVsOneClassifier\n",
    "ovo_clf=OneVsOneClassifier(SGDClassifier(random_state=42, tol=None, max_iter=5))\n",
    "ovo_clf.fit(x_train, y_train)\n",
    "ovo_clf.predict([digit])"
   ]
  },
  {
   "cell_type": "code",
   "execution_count": 58,
   "metadata": {},
   "outputs": [
    {
     "data": {
      "text/plain": [
       "45"
      ]
     },
     "execution_count": 58,
     "metadata": {},
     "output_type": "execute_result"
    }
   ],
   "source": [
    "len(ovo_clf.estimators_)"
   ]
  },
  {
   "cell_type": "markdown",
   "metadata": {},
   "source": [
    "We can see it trained 45 classifers for that."
   ]
  },
  {
   "cell_type": "markdown",
   "metadata": {},
   "source": [
    "Now let's train a <code>RandomForestClassifier</code> with that:"
   ]
  },
  {
   "cell_type": "code",
   "execution_count": 59,
   "metadata": {},
   "outputs": [
    {
     "data": {
      "text/plain": [
       "array([5.])"
      ]
     },
     "execution_count": 59,
     "metadata": {},
     "output_type": "execute_result"
    }
   ],
   "source": [
    "forest_clf.fit(x_train, y_train)\n",
    "forest_clf.predict([digit])"
   ]
  },
  {
   "cell_type": "markdown",
   "metadata": {},
   "source": [
    "This time Scikit-Learn  did not run OvA or OvO because Randrom Forest clasifiers can directly classifiy instances into multiple classes. Let's run <code>predict_proba()</code> to get the list of probabilities that the calssifier assigned to each instance for each class:"
   ]
  },
  {
   "cell_type": "code",
   "execution_count": 60,
   "metadata": {},
   "outputs": [
    {
     "data": {
      "text/plain": [
       "array([[0., 0., 0., 0., 0., 1., 0., 0., 0., 0.]])"
      ]
     },
     "execution_count": 60,
     "metadata": {},
     "output_type": "execute_result"
    }
   ],
   "source": [
    "forest_clf.predict_proba([digit])"
   ]
  },
  {
   "cell_type": "markdown",
   "metadata": {},
   "source": [
    "Woah! The classifier seems very  confident: the 5th index in the array means that the model estimated about 100% accuracy that image represents a 5.\n",
    "<p>Now it is time to evaluate these classifiers. We will use <code>cross_val_score()</code> function. Let's apply that to <code>SGDClassifier</code> first:</p>"
   ]
  },
  {
   "cell_type": "code",
   "execution_count": 61,
   "metadata": {},
   "outputs": [
    {
     "data": {
      "text/plain": [
       "array([0.87517497, 0.85719286, 0.86227934])"
      ]
     },
     "execution_count": 61,
     "metadata": {},
     "output_type": "execute_result"
    }
   ],
   "source": [
    "cross_val_score(sgd_clf, x_train, y_train, cv=3, scoring=\"accuracy\")"
   ]
  },
  {
   "cell_type": "markdown",
   "metadata": {},
   "source": [
    "It gets over 85% on all test folds. If you used a random classifier, you will get 10% accuracy, so this is not such a bad score, but we can do a lot better. First let us just simply try to scale the inputs, it will give the accuracy of about 90%:"
   ]
  },
  {
   "cell_type": "code",
   "execution_count": 66,
   "metadata": {},
   "outputs": [
    {
     "data": {
      "text/plain": [
       "array([0.90696861, 0.91029551, 0.90828624])"
      ]
     },
     "execution_count": 66,
     "metadata": {},
     "output_type": "execute_result"
    }
   ],
   "source": [
    "from sklearn.preprocessing import StandardScaler\n",
    "scaler= StandardScaler()\n",
    "x_train_scaled= scaler.fit_transform(x_train.astype(np.float64))\n",
    "cross_val_score(sgd_clf, x_trained_scale, y_train, cv=3, scoring=\"accuracy\")"
   ]
  },
  {
   "cell_type": "markdown",
   "metadata": {},
   "source": [
    "# Error Analysis\n",
    "Now let us try to analyze the types of errors our model makes. We can try to make the confusion matrix for this first. We need to make predictions first using <code>cross_val_predict()</code> function, then call the <code>confusion_matrix()</code> function, just like we didi earlier:"
   ]
  },
  {
   "cell_type": "code",
   "execution_count": 67,
   "metadata": {},
   "outputs": [
    {
     "data": {
      "text/plain": [
       "array([[5738,    4,   21,    9,   11,   42,   50,    6,   38,    4],\n",
       "       [   2, 6448,   42,   26,    6,   37,   11,   13,  144,   13],\n",
       "       [  59,   46, 5308,  106,   80,   25,   97,   57,  165,   15],\n",
       "       [  47,   40,  149, 5351,    2,  215,   36,   59,  135,   97],\n",
       "       [  20,   28,   34,    7, 5366,    7,   59,   31,   86,  204],\n",
       "       [  79,   39,   31,  198,   80, 4594,  115,   26,  158,  101],\n",
       "       [  30,   21,   49,    1,   45,   90, 5635,    6,   39,    2],\n",
       "       [  27,   20,   67,   26,   54,   11,    3, 5786,   17,  254],\n",
       "       [  52,  150,   75,  163,   15,  157,   55,   27, 5006,  151],\n",
       "       [  40,   34,   29,   91,  154,   32,    2,  207,   81, 5279]],\n",
       "      dtype=int64)"
      ]
     },
     "execution_count": 67,
     "metadata": {},
     "output_type": "execute_result"
    }
   ],
   "source": [
    "y_train_pred= cross_val_predict(sgd_clf, x_train_scaled, y_train, cv=3)\n",
    "confusion_matrix_generation= confusion_matrix(y_train, y_train_pred)\n",
    "confusion_matrix_generation"
   ]
  },
  {
   "cell_type": "markdown",
   "metadata": {},
   "source": [
    "Well that's an aweful lot of numbers. It's often more convenient to look at the graphical representation of the confusion matrix, using Matplotlib's <code>matshow()</code> function:"
   ]
  },
  {
   "cell_type": "code",
   "execution_count": 68,
   "metadata": {},
   "outputs": [
    {
     "data": {
      "image/png": "[encoded data removed]",
      "text/plain": [
       "<Figure size 288x288 with 1 Axes>"
      ]
     },
     "metadata": {
      "needs_background": "light"
     },
     "output_type": "display_data"
    }
   ],
   "source": [
    "plt.matshow(confusion_matrix_generation, cmap=plt.cm.gray)\n",
    "plt.show()"
   ]
  },
  {
   "cell_type": "markdown",
   "metadata": {},
   "source": [
    "We have fairly good result over here, since most of the images are on the main diagona, which means that they were classsified correctly. We can see 5s are slightly darket than the other digits, which could mean that there are less images of 5s in the dataset or that the classifier did not performed well on 5s as compared to other digits. In fact we can verify that.\n",
    "Let us focus the plot on the errors. Fristly, what we will do is we will divide each value in the confusion matrix by the number of images in the corresponding class, so you can compare error rates instead of absolute number of errors (which would make abundant classes look unfairly bad):"
   ]
  },
  {
   "cell_type": "code",
   "execution_count": 70,
   "metadata": {},
   "outputs": [],
   "source": [
    "row_sums=confusion_matrix_generation.sum(axis=1, keepdims=True)\n",
    "norm_conf_mx= confusion_matrix_generation/ row_sums"
   ]
  },
  {
   "cell_type": "markdown",
   "metadata": {},
   "source": [
    "Now, let's fill the diagonal with 0s to keep only the errors, and let's plot the result:"
   ]
  },
  {
   "cell_type": "code",
   "execution_count": 72,
   "metadata": {},
   "outputs": [
    {
     "data": {
      "image/png": "[encoded data removed]",
      "text/plain": [
       "<Figure size 432x288 with 1 Axes>"
      ]
     },
     "metadata": {
      "needs_background": "light"
     },
     "output_type": "display_data"
    }
   ],
   "source": [
    "np.fill_diagonal(norm_conf_mx, 0)\n",
    "plt.matshow(norm_conf_mx, 0,cmap=plt.cm.gray)\n",
    "plt.show()"
   ]
  },
  {
   "cell_type": "markdown",
   "metadata": {},
   "source": [
    "Now all the errors that the classifiers make can be easily seen. The row represents the actual classes, while columns represent predicted classes. The columns of classes 8 and 9 are quite bright, which tells you that many of the images are misclassified as 8s or 9s. Similarly, the row for classes 8 and 9 are also quite bright, telling you that 8s and 9s are often confused with other digits. Conversely, some rows\n",
    "are pretty dark, such as row 1: this means that most 1s are classified correctly (a few are confused with\n",
    "8s, but that’s about it). Notice that the errors are not perfectly symmetrical; for example, there are more 5s\n",
    "misclassified as 8s than the reverse.\n",
    "Analyzing the confusion matrix can often give you insights on ways to improve your classifier. Looking at\n",
    "this plot, it seems that your efforts should be spent on improving classification of 8s and 9s, as well as\n",
    "fixing the specific 3/5 confusion. For example, you could try to gather more training data for these digits.\n",
    "Or you could engineer new features that would help the classifier — for example, writing an algorithm to\n",
    "count the number of closed loops (e.g., 8 has two, 6 has one, 5 has none). Or you could preprocess the\n",
    "images (e.g., using Scikit-Image, Pillow, or OpenCV) to make some patterns stand out more, such as\n",
    "closed loops.\n",
    "Analyzing individual errors can also be a good way to gain insights on what your classifier is doing and\n",
    "why it is failing, but it is more difficult and time-consuming. For example, let’s plot examples of 3s and\n",
    "5s:"
   ]
  },
  {
   "cell_type": "code",
   "execution_count": 78,
   "metadata": {},
   "outputs": [
    {
     "data": {
      "image/png": "[encoded data removed]",
      "text/plain": [
       "<Figure size 576x576 with 4 Axes>"
      ]
     },
     "metadata": {
      "needs_background": "light"
     },
     "output_type": "display_data"
    }
   ],
   "source": [
    "class_a, class_b =3,5\n",
    "x_aa= x_train[(y_train == class_a)&(y_train_pred==class_a)]\n",
    "x_ab= x_train[(y_train == class_a)&(y_train_pred==class_b)]\n",
    "x_ba= x_train[(y_train == class_b)&(y_train_pred==class_a)]\n",
    "x_bb= x_train[(y_train == class_b)&(y_train_pred==class_b)]\n",
    "\n",
    "def plot_digits(instances, images_per_row=10, **options):\n",
    "    size = 28\n",
    "    images_per_row = min(len(instances), images_per_row)\n",
    "    images = [instance.reshape(size,size) for instance in instances]\n",
    "    n_rows = (len(instances) - 1) // images_per_row + 1\n",
    "    row_images = []\n",
    "    n_empty = n_rows * images_per_row - len(instances)\n",
    "    images.append(np.zeros((size, size * n_empty)))\n",
    "    for row in range(n_rows):\n",
    "        rimages = images[row * images_per_row : (row + 1) * images_per_row]\n",
    "        row_images.append(np.concatenate(rimages, axis=1))\n",
    "    image = np.concatenate(row_images, axis=0)\n",
    "    plt.imshow(image, cmap = matplotlib.cm.binary, **options)\n",
    "    plt.axis(\"off\")\n",
    "\n",
    "plt.figure(figsize=(8,8))\n",
    "plt.subplot(221); plot_digits(x_aa[:25], images_per_row=5)\n",
    "plt.subplot(222); plot_digits(x_ab[:25], images_per_row=5)\n",
    "plt.subplot(223); plot_digits(x_ba[:25], images_per_row=5)\n",
    "plt.subplot(224); plot_digits(x_bb[:25], images_per_row=5)\n",
    "plt.show()"
   ]
  },
  {
   "cell_type": "markdown",
   "metadata": {},
   "source": [
    "The blocks on the left show digits classified as 3s and two on the right show images classified as 5s. Some of the digits that the classifier gets wrong are so badly written that even a human would have trouble classifiying them. Most of the misclassified images seem like obvious error to us and it is hard to understand why the classifier made the mistake it did. The reason is that because we used a simple <code>SGDClassifier, </code>which is a liner model."
   ]
  },
  {
   "cell_type": "markdown",
   "metadata": {},
   "source": [
    "And that's it! This concludes our tour of training a digit recognition system classifier. In this we have learnt about types of classifiers, how to select good metrics for classification, picking the appropriate precision/recall tradeoff, compare classifiers and at last build good classification systems for a variety of tasks."
   ]
  },
  {
   "cell_type": "code",
   "execution_count": null,
   "metadata": {},
   "outputs": [],
   "source": []
  }
 ],
 "metadata": {
  "kernelspec": {
   "display_name": "Python 3",
   "language": "python",
   "name": "python3"
  },
  "language_info": {
   "codemirror_mode": {
    "name": "ipython",
    "version": 3
   },
   "file_extension": ".py",
   "mimetype": "text/x-python",
   "name": "python",
   "nbconvert_exporter": "python",
   "pygments_lexer": "ipython3",
   "version": "3.5.3"
  }
 },
 "nbformat": 4,
 "nbformat_minor": 2
}
